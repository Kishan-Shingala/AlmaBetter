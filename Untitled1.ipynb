{
  "nbformat": 4,
  "nbformat_minor": 0,
  "metadata": {
    "colab": {
      "provenance": [],
      "mount_file_id": "1aUv9B9kkWwKuBtvjRaSKQC5XUKMUp40i",
      "authorship_tag": "ABX9TyMgn2zc+ToWtfHsMZzR2tOV",
      "include_colab_link": true
    },
    "kernelspec": {
      "name": "python3",
      "display_name": "Python 3"
    },
    "language_info": {
      "name": "python"
    }
  },
  "cells": [
    {
      "cell_type": "markdown",
      "metadata": {
        "id": "view-in-github",
        "colab_type": "text"
      },
      "source": [
        "<a href=\"https://colab.research.google.com/github/Kishan-Shingala/AlmaBetter/blob/main/Untitled1.ipynb\" target=\"_parent\"><img src=\"https://colab.research.google.com/assets/colab-badge.svg\" alt=\"Open In Colab\"/></a>"
      ]
    },
    {
      "cell_type": "code",
      "source": [
        "import requests\n",
        "from bs4 import BeautifulSoup\n",
        "import pandas as pd\n",
        "import numpy as np\n",
        "import time"
      ],
      "metadata": {
        "id": "0V26-2mBXMl_"
      },
      "execution_count": null,
      "outputs": []
    },
    {
      "cell_type": "code",
      "source": [
        "homepage = 'https://londonmandir.baps.org/daily-murti-darshan/'"
      ],
      "metadata": {
        "id": "0IOw8jenXYm-"
      },
      "execution_count": null,
      "outputs": []
    },
    {
      "cell_type": "code",
      "source": [
        "response = requests.get(homepage)\n",
        "soup = BeautifulSoup(response.text, 'html.parser')\n"
      ],
      "metadata": {
        "id": "MwKHawO7XYjz"
      },
      "execution_count": null,
      "outputs": []
    },
    {
      "cell_type": "code",
      "source": [
        "html_data = soup.find_all('a', class_=\"home_title\", )\n",
        "\n",
        "html_data"
      ],
      "metadata": {
        "colab": {
          "base_uri": "https://localhost:8080/"
        },
        "id": "RL2A1mhMXYgn",
        "outputId": "f0ce24e8-7dad-4b3e-89e0-84dd430ae129"
      },
      "execution_count": null,
      "outputs": [
        {
          "output_type": "execute_result",
          "data": {
            "text/plain": [
              "[<a class=\"home_title\" href=\"/news/\"><div class=\"title\">News <span class=\"it\">&amp;</span> Events</div></a>,\n",
              " <a class=\"home_title\" href=\"daily-murti-darshan/\">\n",
              " <div class=\"title\">Daily Murti Darshan <label class=\"date\">Thursday 9 May 2024</label></div>\n",
              " </a>,\n",
              " <a class=\"home_title\" href=\"/visit-us/\">\n",
              " <div class=\"title\">Visitor Information</div>\n",
              " </a>,\n",
              " <a class=\"home_title\" href=\"/the-mandir/\">\n",
              " <div class=\"title\"><span>the</span> Mandir</div>\n",
              " </a>,\n",
              " <a class=\"home_title\" href=\"/learning-and-education/\">\n",
              " <div class=\"title\">Learning <span class=\"it\">&amp;</span> Education</div>\n",
              " </a>]"
            ]
          },
          "metadata": {},
          "execution_count": 6
        }
      ]
    },
    {
      "cell_type": "code",
      "source": [],
      "metadata": {
        "id": "xlxawwGFXYa6"
      },
      "execution_count": null,
      "outputs": []
    },
    {
      "cell_type": "code",
      "source": [],
      "metadata": {
        "id": "Ri45jtQZXYXw"
      },
      "execution_count": null,
      "outputs": []
    },
    {
      "cell_type": "code",
      "source": [],
      "metadata": {
        "id": "wXYIopxYXYU9"
      },
      "execution_count": null,
      "outputs": []
    },
    {
      "cell_type": "code",
      "source": [],
      "metadata": {
        "id": "6xw1bGNLXYR1"
      },
      "execution_count": null,
      "outputs": []
    },
    {
      "cell_type": "code",
      "source": [],
      "metadata": {
        "id": "XuhlNplxXYPB"
      },
      "execution_count": null,
      "outputs": []
    },
    {
      "cell_type": "code",
      "source": [],
      "metadata": {
        "id": "xgXjguTiXYMN"
      },
      "execution_count": null,
      "outputs": []
    }
  ]
}